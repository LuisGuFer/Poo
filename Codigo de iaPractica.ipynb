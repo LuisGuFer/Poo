{
  "nbformat": 4,
  "nbformat_minor": 0,
  "metadata": {
    "colab": {
      "provenance": [],
      "authorship_tag": "ABX9TyOy4lzlRaqQhx3o7u58VdwJ",
      "include_colab_link": true
    },
    "kernelspec": {
      "name": "python3",
      "display_name": "Python 3"
    },
    "language_info": {
      "name": "python"
    }
  },
  "cells": [
    {
      "cell_type": "markdown",
      "metadata": {
        "id": "view-in-github",
        "colab_type": "text"
      },
      "source": [
        "<a href=\"https://colab.research.google.com/github/LuisGuFer/Poo/blob/main/Codigo%20de%20iaPractica.ipynb\" target=\"_parent\"><img src=\"https://colab.research.google.com/assets/colab-badge.svg\" alt=\"Open In Colab\"/></a>"
      ]
    },
    {
      "cell_type": "markdown",
      "source": [
        "Algoritmo de Dijkstra"
      ],
      "metadata": {
        "id": "h3QqI2FW4zhm"
      }
    },
    {
      "cell_type": "code",
      "execution_count": 1,
      "metadata": {
        "id": "TvnR9xBB3BwN"
      },
      "outputs": [],
      "source": [
        "import heapq\n",
        "\n",
        "# -------------------------------\n",
        "# Algoritmo de Dijkstra\n",
        "# -------------------------------\n",
        "def dijkstra(grafo, inicio):\n",
        "    # Distancias iniciales: infinito para todos menos el nodo de inicio\n",
        "    distancias = {nodo: float('inf') for nodo in grafo}\n",
        "    distancias[inicio] = 0\n",
        "\n",
        "    # Cola de prioridad para elegir el nodo más cercano\n",
        "    cola_prioridad = [(0, inicio)]\n",
        "\n",
        "    while cola_prioridad:\n",
        "        distancia_actual, nodo_actual = heapq.heappop(cola_prioridad)\n",
        "\n",
        "        # Si encontramos una distancia mayor, no es óptima y la ignoramos\n",
        "        if distancia_actual > distancias[nodo_actual]:\n",
        "            continue\n",
        "\n",
        "        # Explorar vecinos\n",
        "        for vecino, peso in grafo[nodo_actual].items():\n",
        "            distancia = distancia_actual + peso\n",
        "            # Si encontramos una ruta más corta, actualizamos\n",
        "            if distancia < distancias[vecino]:\n",
        "                distancias[vecino] = distancia\n",
        "                heapq.heappush(cola_prioridad, (distancia, vecino))\n",
        "\n",
        "    return distancias"
      ]
    },
    {
      "cell_type": "code",
      "source": [
        "# Grafo de ejemplo para Dijkstra\n",
        "grafo_dijkstra = {\n",
        "    'A': {'B': 2, 'C': 5},\n",
        "    'B': {'A': 2, 'C': 6, 'D': 1},\n",
        "    'C': {'A': 5, 'B': 6, 'D': 2, 'E': 5},\n",
        "    'D': {'B': 1, 'C': 2, 'E': 1},\n",
        "    'E': {'C': 5, 'D': 1}\n",
        "}\n",
        "\n",
        "resultado = dijkstra(grafo_dijkstra, 'A')\n",
        "print(\"Distancias mínimas desde A:\")\n",
        "for nodo, distancia in resultado.items():\n",
        "    print(f\"A → {nodo}: {distancia}\")\n"
      ],
      "metadata": {
        "colab": {
          "base_uri": "https://localhost:8080/"
        },
        "id": "UT7a4qT732Pm",
        "outputId": "546a4066-6a39-48ca-98d7-05890891cafc"
      },
      "execution_count": 2,
      "outputs": [
        {
          "output_type": "stream",
          "name": "stdout",
          "text": [
            "Distancias mínimas desde A:\n",
            "A → A: 0\n",
            "A → B: 2\n",
            "A → C: 5\n",
            "A → D: 3\n",
            "A → E: 4\n"
          ]
        }
      ]
    },
    {
      "cell_type": "markdown",
      "source": [
        "Algoritmo de Floyd–Warshall"
      ],
      "metadata": {
        "id": "yXu3w5bp4sKV"
      }
    },
    {
      "cell_type": "code",
      "source": [
        "# -------------------------------\n",
        "# Algoritmo de Floyd–Warshall\n",
        "# -------------------------------\n",
        "def floyd_warshall(grafo):\n",
        "    # Número de nodos\n",
        "    nodos = list(grafo.keys())\n",
        "    n = len(nodos)\n",
        "\n",
        "    # Inicializar matriz de distancias\n",
        "    dist = [[float('inf')] * n for _ in range(n)]\n",
        "\n",
        "    # Distancia a sí mismo = 0\n",
        "    for i in range(n):\n",
        "        dist[i][i] = 0\n",
        "\n",
        "    # Llenar con valores del grafo\n",
        "    for u in grafo:\n",
        "        for v, peso in grafo[u].items():\n",
        "            dist[nodos.index(u)][nodos.index(v)] = peso\n",
        "\n",
        "    # Algoritmo principal\n",
        "    for k in range(n):\n",
        "        for i in range(n):\n",
        "            for j in range(n):\n",
        "                if dist[i][k] + dist[k][j] < dist[i][j]:\n",
        "                    dist[i][j] = dist[i][k] + dist[k][j]\n",
        "\n",
        "    # Mostrar resultado\n",
        "    print(\"\\nMatriz de distancias mínimas:\")\n",
        "    for fila in dist:\n",
        "        print(fila)\n",
        "\n"
      ],
      "metadata": {
        "id": "WLt8OA_V34hW"
      },
      "execution_count": 6,
      "outputs": []
    },
    {
      "cell_type": "code",
      "source": [
        "# Grafo de ejemplo para Floyd–Warshall\n",
        "grafo_fw = {\n",
        "    'A': {'B': 3, 'C': 8},\n",
        "    'B': {'C': 2, 'D': 5},\n",
        "    'C': {'D': 1},\n",
        "    'D': {'A': 2}\n",
        "}\n",
        "\n",
        "floyd_warshall(grafo_fw)"
      ],
      "metadata": {
        "colab": {
          "base_uri": "https://localhost:8080/"
        },
        "id": "pnlqCFe738Bd",
        "outputId": "995b42a2-cde7-42f1-e99a-b567ed74b13e"
      },
      "execution_count": 4,
      "outputs": [
        {
          "output_type": "stream",
          "name": "stdout",
          "text": [
            "\n",
            "Matriz de distancias mínimas:\n",
            "[0, 3, 5, 6]\n",
            "[5, 0, 2, 3]\n",
            "[3, 6, 0, 1]\n",
            "[2, 5, 7, 0]\n"
          ]
        }
      ]
    },
    {
      "cell_type": "markdown",
      "source": [
        "Búsqueda en Anchura (BFS)\n"
      ],
      "metadata": {
        "id": "u5h-MSV34jyl"
      }
    },
    {
      "cell_type": "code",
      "source": [
        "from collections import deque\n",
        "\n",
        "def bfs(grafo, inicio, meta):\n",
        "    visitados = set()\n",
        "    cola = deque([[inicio]])  # cada elemento de la cola es un camino\n",
        "\n",
        "    while cola:\n",
        "        camino = cola.popleft()   # tomamos el primer camino\n",
        "        nodo = camino[-1]         # último nodo del camino\n",
        "\n",
        "        if nodo == meta:          # si llegamos al nodo meta devolvemos el camino\n",
        "            return camino\n",
        "\n",
        "        if nodo not in visitados:\n",
        "            for vecino in grafo[nodo]:\n",
        "                nuevo_camino = list(camino)  # copiamos el camino actual\n",
        "                nuevo_camino.append(vecino)  # añadimos el vecino\n",
        "                cola.append(nuevo_camino)    # metemos el nuevo camino en la cola\n",
        "            visitados.add(nodo)\n",
        "\n",
        "    return None  # si no hay camino\n"
      ],
      "metadata": {
        "id": "mhqe_pwo4G39"
      },
      "execution_count": null,
      "outputs": []
    },
    {
      "cell_type": "code",
      "source": [
        "# Grafo de ejemplo\n",
        "grafo = {\n",
        "    'A': ['B', 'C'],\n",
        "    'B': ['A', 'D', 'E'],\n",
        "    'C': ['A', 'F'],\n",
        "    'D': ['B'],\n",
        "    'E': ['B', 'F'],\n",
        "    'F': ['C', 'E']\n",
        "}\n",
        "\n",
        "print(\"Camino BFS de A a F:\", bfs(grafo, 'A', 'F'))"
      ],
      "metadata": {
        "id": "4pdiNwK64gAN"
      },
      "execution_count": null,
      "outputs": []
    }
  ]
}