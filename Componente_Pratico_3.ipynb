{
  "nbformat": 4,
  "nbformat_minor": 0,
  "metadata": {
    "colab": {
      "provenance": [],
      "authorship_tag": "ABX9TyMXcuh3Bowg96lIYLT8aXQv",
      "include_colab_link": true
    },
    "kernelspec": {
      "name": "python3",
      "display_name": "Python 3"
    },
    "language_info": {
      "name": "python"
    }
  },
  "cells": [
    {
      "cell_type": "markdown",
      "metadata": {
        "id": "view-in-github",
        "colab_type": "text"
      },
      "source": [
        "<a href=\"https://colab.research.google.com/github/LuisGuFer/Poo/blob/main/Componente_Pratico_3.ipynb\" target=\"_parent\"><img src=\"https://colab.research.google.com/assets/colab-badge.svg\" alt=\"Open In Colab\"/></a>"
      ]
    },
    {
      "cell_type": "code",
      "execution_count": 1,
      "metadata": {
        "colab": {
          "base_uri": "https://localhost:8080/"
        },
        "id": "hSCUfsumzsES",
        "outputId": "adfa97ac-f600-45f8-b0ae-eb54f32497df"
      },
      "outputs": [
        {
          "output_type": "stream",
          "name": "stdout",
          "text": [
            "Tiradas: [2, 6, 4, 1, 4, 2, 3, 1, 4, 6]\n",
            "Veces que salió >4: 2\n",
            "Probabilidad estimada: 0.20\n"
          ]
        }
      ],
      "source": [
        "# -----------------------------\n",
        "# INCERTIDUMBRE Y PROBABILIDAD\n",
        "# -----------------------------\n",
        "import random\n",
        "\n",
        "# Simular 10 tiradas de un dado\n",
        "tiradas = [random.randint(1, 6) for _ in range(10)]\n",
        "print(\"Tiradas:\", tiradas)\n",
        "\n",
        "# Calcular probabilidad de obtener un número mayor a 4\n",
        "exitos = sum(1 for t in tiradas if t > 4)\n",
        "probabilidad = exitos / len(tiradas)\n",
        "print(f\"Veces que salió >4: {exitos}\")\n",
        "print(f\"Probabilidad estimada: {probabilidad:.2f}\")"
      ]
    },
    {
      "cell_type": "code",
      "source": [
        "# -----------------------------\n",
        "# FUNCIONES DE PERTENENCIA\n",
        "# -----------------------------\n",
        "def triangular(x, a, b, c):\n",
        "    \"\"\"\n",
        "    Función de pertenencia triangular.\n",
        "    a: inicio de la base\n",
        "    b: punto máximo (grado 1)\n",
        "    c: fin de la base\n",
        "    \"\"\"\n",
        "    if x <= a or x >= c:\n",
        "        return 0\n",
        "    elif a < x < b:\n",
        "        return (x - a) / (b - a)\n",
        "    elif b <= x < c:\n",
        "        return (c - x) / (c - b)\n",
        "    else:\n",
        "        return 0\n",
        "\n",
        "# Ejemplo: temperatura cálida en [15, 25, 35]\n",
        "temperatura = 25\n",
        "grado = triangular(temperatura, 15, 25, 35)\n",
        "print(f\"Grado de pertenencia de {temperatura}°C a 'cálida': {grado:.2f}\")"
      ],
      "metadata": {
        "colab": {
          "base_uri": "https://localhost:8080/"
        },
        "id": "AfkFbTMRzuwY",
        "outputId": "db9be7d1-4bdd-4ace-9e08-0818cb36adb4"
      },
      "execution_count": 2,
      "outputs": [
        {
          "output_type": "stream",
          "name": "stdout",
          "text": [
            "Grado de pertenencia de 25°C a 'cálida': 1.00\n"
          ]
        }
      ]
    },
    {
      "cell_type": "code",
      "source": [
        "# -----------------------------\n",
        "# DEFUZIFICACIÓN POR MÉTODO DEL CENTROIDE\n",
        "# -----------------------------\n",
        "# Valores y sus grados de pertenencia\n",
        "valores = [10, 20, 30]\n",
        "grados = [0.2, 0.5, 0.8]\n",
        "\n",
        "# Fórmula del centroide: (Σ µ(x) * x) / (Σ µ(x))\n",
        "numerador = sum(mu * x for mu, x in zip(grados, valores))\n",
        "denominador = sum(grados)\n",
        "centroide = numerador / denominador\n",
        "\n",
        "print(\"Valores:\", valores)\n",
        "print(\"Grados de pertenencia:\", grados)\n",
        "print(f\"Valor defuzificado (centroide): {centroide:.2f}\")"
      ],
      "metadata": {
        "colab": {
          "base_uri": "https://localhost:8080/"
        },
        "id": "SjM0lORNz004",
        "outputId": "9a1b3f5a-1a91-4b89-8bf1-4d97b6825db4"
      },
      "execution_count": 3,
      "outputs": [
        {
          "output_type": "stream",
          "name": "stdout",
          "text": [
            "Valores: [10, 20, 30]\n",
            "Grados de pertenencia: [0.2, 0.5, 0.8]\n",
            "Valor defuzificado (centroide): 24.00\n"
          ]
        }
      ]
    }
  ]
}